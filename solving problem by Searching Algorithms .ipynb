{
 "cells": [
  {
   "cell_type": "markdown",
   "metadata": {},
   "source": [
    "ــــــــــــــــــــــــــــــــــــــــــــــــــــــــــــــــــــــــــــــــــــــــــــــــــــــــــــــــــــــــــــــــــــــــــــــــــــــــــــــــــــــــــــــــــــــــــــــــــــــــــــــــــــــــــــــــــــــــــــــــــــــــــــــــــــــــــــــــــــــــــــــــــــــــــــــــــــــــــــــــــــــــــــــــــــــــــــــــــــــــــــــــــــــــــــــــــــــــــــــــــــــــــــــــــــــــــــــــــــــــــــــــــــــــــــــــــــــــــــــــــ"
   ]
  },
  {
   "cell_type": "markdown",
   "metadata": {},
   "source": [
    "\n",
    "    \n",
    "# Main Concept and Objective:"
   ]
  },
  {
   "cell_type": "markdown",
   "metadata": {},
   "source": [
    "**Whenever the agent is confronted by a problem, its first action is seeking a solution is . This is known as the search for the solution in knowledge base. Another attempt can be to search for a solution by going into different states. The search stops when the agent reaches the goal state.\n",
    "There are many search algorithms which are followed by the agent for solving the problems by searching. of which: A* search algorithm and Simulated annealing , and we aim at this report to explain the A* search algorithm and algorithm Simulated annealing .**"
   ]
  },
  {
   "cell_type": "markdown",
   "metadata": {},
   "source": [
    "</b>\n",
    "    <h2 dir=\"rtl\"> المفهوم والهدف الرئيسي:\n",
    "\n",
    "</h2>"
   ]
  },
  {
   "cell_type": "markdown",
   "metadata": {},
   "source": [
    "   <h2 dir=\"rtl\"> \n",
    "كلما واجه الوكيل مشكلة ، فإن أول عمل له هو البحث عن حل. يُعرف هذا البحث عن الحل في قاعدة المعرفة. يمكن أن تكون محاولة أخرى للبحث عن حل من خلال الذهاب إلى حالات مختلفة. يتوقف البحث عندما يصل الوكيل إلى حالة الهدف.\n",
    "هناك العديد من خوارزميات البحث التي يتبعها الوكيل لحل المشكلات عن طريق البحث. منها: خوارزمية بحث *أ و محاكاة التلدين ونحن نهدف في هذا التقرير إلى شرح خوارزمية بحث A * وخوارزمية محاكاة التلدين.\n",
    "</h2> "
   ]
  },
  {
   "cell_type": "markdown",
   "metadata": {},
   "source": [
    "\n",
    "ــــــــــــــــــــــــــــــــــــــــــــــــــــــــــــــــــــــــــــــــــــــــــــــــــــــــــــــــــــــــــــــــــــــــــــــــــــــــــــــــــــــــــــــــــــــــــــــــــــــــــــــــــــــــــــــــــــــــــــــــــــــــــــــــــــــــــــــــــــــــــــــــــــــــــــــــــــــــــــــــــــــــــــــــــــــــــــــــــــــــــــــــــــــــــــــــــــــــــــــــــــــــــــــــــــــــــــــــــــــــــــــــــــــــــــــــــــــــــــــــــ"
   ]
  },
  {
   "cell_type": "markdown",
   "metadata": {},
   "source": [
    "\n",
    "    \n",
    " ## CONTENTS :\n",
    "\n"
   ]
  },
  {
   "cell_type": "markdown",
   "metadata": {},
   "source": [
    "#### 1. A* Algorithm .\n",
    "#### 2.  Simulated Annealing ."
   ]
  },
  {
   "cell_type": "markdown",
   "metadata": {},
   "source": [
    "<h2 dir=\"rtl\">\n",
    "<b> \n",
    "    \n",
    " ####   المحتوى :"
   ]
  },
  {
   "cell_type": "markdown",
   "metadata": {},
   "source": [
    " <h2 dir=\"rtl\"> ١. خوارزمية *أ. \n",
    "    \n",
    "    \n",
    "\n",
    "<h2 dir=\"rtl\"> ٢. خوارزمية محاكاة التلدين . \n",
    "\n",
    "\n"
   ]
  },
  {
   "cell_type": "markdown",
   "metadata": {},
   "source": [
    " ــــــــــــــــــــــــــــــــــــــــــــــــــــــــــــــــــــــــــــــــــــــــــــــــــــــــــــــــــــــــــــــــــــــــــــــــــــــــــــــــــــــــــــــــــــــــــــــــــــــــــــــــــــــــــــــــــــــــــــــــــــــــــــــــــــــــــــــــــــــــــــــــــــــــــــــــــــــــــــــــــــــــــــــــــــــــــــــــــــــــــــــــــــــــــــــــــــــــــــــــــــــــــــــــــــــــــــــــــــــــــــــــــــــــــــــــــــــــــــــــــ"
   ]
  },
  {
   "cell_type": "markdown",
   "metadata": {},
   "source": [
    "\n",
    "    \n",
    "## 1. A* Search :\n"
   ]
  },
  {
   "cell_type": "markdown",
   "metadata": {},
   "source": [
    "◉ A* is the most popular choice for path finding , it is like **Dijsktra** algorithm in that it can be used to find a shortest path , and like **Greedy** Best first search in that it can use a **heuristic** to guide it self .\n",
    "\n"
   ]
  },
  {
   "cell_type": "markdown",
   "metadata": {},
   "source": [
    "    \n",
    "* initial state – starting state. \n",
    "* actions - all possible actions available to the agent. Given a state s, Actions(s) returns the set of actions that can be executed in s \n",
    "* transition model – description of what each action does. A successor is any state reachable from a given state by applying a single action. \n",
    "* state space – set of all states reachable from the initial state by a sequence of actions.\n",
    "* goal test – how do we know we are in a goal state? Apply function to given state to see if it is goal state.\n",
    "* g(n) — this represents the exact cost of the path from the starting node to any node n.\n",
    "* h(n) — this represents the heuristic estimated cost from node n to the goal node.\n",
    "* f(n) — lowest cost in the neighboring node n ,f(n)=g(n)+h(n)."
   ]
  },
  {
   "cell_type": "markdown",
   "metadata": {},
   "source": [
    "<h2 dir=\"rtl\"> \n",
    "<b>\n",
    "  \n",
    "### البحث بـ أ* :"
   ]
  },
  {
   "cell_type": "markdown",
   "metadata": {},
   "source": [
    "<h2 dir=\"rtl\">      \n",
    "◉ هو الخيار الاكثر شيوعاً للعثور على المسار فهو يشبه خوارزمية ديكسترا في انه يمكن استخدامه للعثور على مسار اقصر ،و   مثل خوارزمية أفضل جشع أول بحث في انه يمكن استخدام دليل إرشادي لتوجيه ذاتيًا .</h2>\n"
   ]
  },
  {
   "cell_type": "markdown",
   "metadata": {},
   "source": [
    " <h2 dir=\"rtl\">  \n",
    "الحالة الاولية -حالة البدء  .\n",
    " <h2 dir=\"rtl\"> \n",
    " الحركات - جميع الحركات الممكنة المتاحة للوكيل.  بالنظر إلى الحالة s ، ترجع  مجموعة الحركات التي يمكن تنفيذها في s\n",
    " <h2 dir=\"rtl\"> \n",
    " نموذج الانتقال - وصف ما يفعله كل حركه .  قائمة الطابور هو أي حالة  يمكن الوصول إليها من حالة معينة من خلال تطبيق حركة واحد.\n",
    " <h2 dir=\"rtl\"> \n",
    " مساحة الحالة - مجموعة من جميع الحالات التي يمكن الوصول إليها من الحالة الأولية من خلال سلسلة من الحركات .\n",
    " <h2 dir=\"rtl\"> \n",
    " اختبار الهدف - كيف نعرف أننا في حالة الهدف؟  تطبيق الدالة على حالة معينة لمعرفة ما إذا كانت حالة الهدف.\n",
    " <h2 dir=\"rtl\"> \n",
    " g (n) - يمثل هذا التكلفة الدقيقة للمسار من عقدة البداية إلى أي عقدة n.\n",
    " <h2 dir=\"rtl\"> \n",
    " h (n) - يمثل التكلفة المقدرة الإرشادية من العقدة n إلى العقدة الهدف.\n",
    " <h2 dir=\"rtl\"> \n",
    " f (n) - أقل تكلفة في العقدة المجاورة n ، \n",
    "f (n) = g (n) + h (n).\n",
    "</h2>"
   ]
  },
  {
   "cell_type": "markdown",
   "metadata": {},
   "source": [
    " ــــــــــــــــــــــــــــــــــــــــــــــــــــــــــــــــــــــــــــــــــــــــــــــــــــــــــــــــــــــــــــــــــــــــــــــــــــــــــــــــــــــــــــــــــــــــــــــــــــــــــــــــــــــــــــــــــــــــــــــــــــــــــــــــــــــــــــــــــــــــــــــــــــــــــــــــــــــــــــــــــــــــــــــــــــــــــــــــــــــــــــــــــــــــــــــــــــــــــــــــــــــــــــــــــــــــــــــــــــــــــــــــــــــــــــــــــــــــــــــــــ"
   ]
  },
  {
   "cell_type": "markdown",
   "metadata": {},
   "source": [
    "\n",
    "   \n",
    "   ## - Problem Description :</b>\n",
    "we start with an initial state **Pacman** to finding the shortest path to reach the goal which is big white ball، , The way you move it is either a row or a column, and it is not searched in the diagonal method.\n",
    "</div>"
   ]
  },
  {
   "cell_type": "markdown",
   "metadata": {},
   "source": [
    "<h2 dir=\"rtl\">\n",
    " وصف المشكلة :\n",
    " <h2 dir=\"rtl\">   </b> نبدأ بالحالة الاولية لإيجاد أقصر طريق للوصول إلى الهدف وهو كرة بيضاء كبيرة،طريقة حركتها اما صف او عمود ,و لا تبحث بالطريقة القطرية .\n",
    "</div>"
   ]
  },
  {
   "cell_type": "markdown",
   "metadata": {},
   "source": [
    " ــــــــــــــــــــــــــــــــــــــــــــــــــــــــــــــــــــــــــــــــــــــــــــــــــــــــــــــــــــــــــــــــــــــــــــــــــــــــــــــــــــــــــــــــــــــــــــــــــــــــــــــــــــــــــــــــــــــــــــــــــــــــــــــــــــــــــــــــــــــــــــــــــــــــــــــــــــــــــــــــــــــــــــــــــــــــــــــــــــــــــــــــــــــــــــــــــــــــــــــــــــــــــــــــــــــــــــــــــــــــــــــــــــــــــــــــــــــــــــــــــ"
   ]
  },
  {
   "cell_type": "markdown",
   "metadata": {},
   "source": [
    "\n",
    "## Problem formulatio for Pacman :\n",
    "<h2 dir=\"rtl\">\n",
    "صياغة المشكلة  :"
   ]
  },
  {
   "cell_type": "markdown",
   "metadata": {},
   "source": [
    "\n",
    "    \n",
    "### 1- Pacman Initial State :\n",
    "<h2 dir=\"rtl\">\n",
    "<b> \n",
    "    ١. الحالة الأولية لباك مان :"
   ]
  },
  {
   "cell_type": "markdown",
   "metadata": {},
   "source": [
    "<img src=\"intial.png\" >"
   ]
  },
  {
   "cell_type": "markdown",
   "metadata": {},
   "source": [
    " ــــــــــــــــــــــــــــــــــــــــــــــــــــــــــــــــــــــــــــــــــــــــــــــــــــــــــــــــــــــــــــــــــــــــــــــــــــــــــــــــــــــــــــــــــــــــــــــــــــــــــــــــــــــــــــــــــــــــــــــــــــــــــــــــــــــــــــــــــــــــــــــــــــــــــــــــــــــــــــــــــــــــــــــــــــــــــــــــــــــــــــ"
   ]
  },
  {
   "cell_type": "markdown",
   "metadata": {},
   "source": [
    "\n",
    "        \n",
    "### 2- Pacman actions :\n",
    "####  **{ Left , Right , Up  , Dwon , Eat }** .\n",
    "<h2 dir=\"rtl\">\n",
    "        ٢. تحركات باكمان :\n",
    "<h2 dir=\"rtl\">    \n",
    "    { يسار ، يمين ، فوق ، تحت ، يأكل }."
   ]
  },
  {
   "cell_type": "markdown",
   "metadata": {},
   "source": [
    "<img src=\"eat.mp4\" >"
   ]
  },
  {
   "cell_type": "markdown",
   "metadata": {},
   "source": [
    "ــــــــــــــــــــــــــــــــــــــــــــــــــــــــــــــــــــــــــــــــــــــــــــــــــــــــــــــــــــــــــــــــــــــــــــــــــــــــــــــــــــــــــــــــــــــــــــــــــــــــــــــــــــــــــــــــــــــــــــــــــــــــــــــــــــــــــــــــــــــــــــــــــــــــــــــــــــــــــــــــــــــــــــــــــــــــــــــــــــــــــــــــــــــــــــــــــــــــــــــــــــــــــــــــــــــــــــــــــــــــــــــــــــــــــــــــــــــــــــــــــ "
   ]
  },
  {
   "cell_type": "markdown",
   "metadata": {},
   "source": [
    "\n",
    "    \n",
    "### 3- Transition model :    \n",
    " Moving **Forward** , **backword** , **up** and **dwon** with **eating** small white balls . \n",
    " <h2 dir=\"rtl\">\n",
    "٣. نماذج الانتقال :\n",
    " * التحرك لللأمام ،الخلف ، اللأعلى والاسفل و يأكل الكرات البيضاء الصغيرة "
   ]
  },
  {
   "cell_type": "markdown",
   "metadata": {},
   "source": [
    " ــــــــــــــــــــــــــــــــــــــــــــــــــــــــــــــــــــــــــــــــــــــــــــــــــــــــــــــــــــــــــــــــــــــــــــــــــــــــــــــــــــــــــــــــــــــــــــــــــــــــــــــــــــــــــــــــــــــــــــــــــــــــــــــــــــــــــــــــــــــــــــــــــــــــــــــــــــــــــــــــــــــــــــــــــــــــــــــــــــــــــــــــــــــــــــــــــــــــــــــــــــــــــــــــــــــــــــــــــــــــــــــــــــــــــــــــــــــــــــــــــ"
   ]
  },
  {
   "cell_type": "markdown",
   "metadata": {},
   "source": [
    "\n",
    "\n",
    "### 4- Pacman State space :\n",
    "* Square map (5x7) .\n",
    "* Ghosts .\n",
    "* Small white balls .\n",
    "* Big white ball (Goal) .\n",
    "* Pacman .\n",
    " \n",
    " \n",
    " <h2 dir=\"rtl\">  \n",
    "    ٤. مساحة باك مان  :\n",
    "<h2 dir=\"rtl\">    \n",
    " (٥x٧)الخريطة المربعة  \n",
    "<h2 dir=\"rtl\">    \n",
    " اشباح\n",
    "<h2 dir=\"rtl\">      \n",
    " كرات بيضاء صغيرة\n",
    "<h2 dir=\"rtl\">      \n",
    "كرة بيضاء كبيرة\n",
    "<h2 dir=\"rtl\"> \n",
    "باك مان "
   ]
  },
  {
   "cell_type": "markdown",
   "metadata": {},
   "source": [
    "<img src=\"spaceA.png\" >"
   ]
  },
  {
   "cell_type": "markdown",
   "metadata": {},
   "source": [
    "ــــــــــــــــــــــــــــــــــــــــــــــــــــــــــــــــــــــــــــــــــــــــــــــــــــــــــــــــــــــــــــــــــــــــــــــــــــــــــــــــــــــــــــــــــــــــــــــــــــــــــــــــــــــــــــــــــــــــــــــــــــــــــــــــــــــــــــــــــــــــــــــــــــــــــــــــــــــــــــــــــــــــــــــــــــــــــــــــــــــــــــــــــــــــــــــــــــــــــــــــــــــــــــــــــــــــــــــــــــــــــــــــــــــــــــــــــــــــــــــــــ"
   ]
  },
  {
   "cell_type": "markdown",
   "metadata": {},
   "source": [
    "\n",
    "\n",
    "### 5- Pacman Goal state :\n",
    "* Eating a big white ball .\n",
    "\n",
    "\n",
    " <h2 dir=\"rtl\"> \n",
    "    ٥. هدف باك مان :\n",
    "     <h2 dir=\"rtl\"> \n",
    "         \n",
    "*  ان يأكل الكرة البيضاء الكبيرة"
   ]
  },
  {
   "cell_type": "markdown",
   "metadata": {},
   "source": [
    "<img src=\"Goal.png\" >"
   ]
  },
  {
   "cell_type": "markdown",
   "metadata": {},
   "source": [
    "ــــــــــــــــــــــــــــــــــــــــــــــــــــــــــــــــــــــــــــــــــــــــــــــــــــــــــــــــــــــــــــــــــــــــــــــــــــــــــــــــــــــــــــــــــــــــــــــــــــــــــــــــــــــــــــــــــــــــــــــــــــــــــــــــــــــــــــــــــــــــــــــــــــــــــــــــــــــــــــــــــــــــــــــــــــــــــــــــــــــــــــــــــــــــــــــــــــــــــــــــــــــــــــــــــــــــــــــــــــــــــــــــــــــــــــــــــــــــــــــــــ"
   ]
  },
  {
   "cell_type": "markdown",
   "metadata": {},
   "source": [
    "\n",
    "\n",
    "## - Implementation  :\n",
    "\n",
    "<h2 dir=\"rtl\"> \n",
    "    -التنفيذ :"
   ]
  },
  {
   "cell_type": "markdown",
   "metadata": {},
   "source": [
    "\n",
    "<b>\n",
    "    \n",
    "### pacman tree :\n",
    "  <h2 dir=\"rtl\"> \n",
    "      شجرة باك مان :\n",
    "    "
   ]
  },
  {
   "cell_type": "code",
   "execution_count": 7,
   "metadata": {},
   "outputs": [],
   "source": [
    "pacmanMap= { 'pacMan':[['AB'],['ghost']],\n",
    "                'AB':[['ghost'],['AC']],\n",
    "                'AC':[['ghost'],['AD']],\n",
    "                'AD':[['ghost'],['AE']],\n",
    "                'AE':[['AF'],['BE']],\n",
    "                'AF':[['ghost'],['AG']],\n",
    "                'AG':[['BG']],\n",
    "                'BE':[['ghost'],['ghost'],['CE']],\n",
    "                'BG':[['CG'],['ghost']],\n",
    "                'CA':[['DA'],['ghost']],\n",
    "                'CB':[['CA'],['ghost'],['ghost']],\n",
    "                'CC':[['CB'],['ghost'],['ghost']],\n",
    "                'CD':[['CC'],['ghost'],['ghost']],\n",
    "                'CE':[['CD'],['ghost'],['ghost']],\n",
    "                'CG':[['DG'],['ghost']],\n",
    "                'DA':[['EA'],['ghost']],\n",
    "                'DG':[['whiteBall'],['ghost']],\n",
    "                'EA':[['EB']],\n",
    "                'EB':[['EC'],['ghost']],\n",
    "                'EC':[['ED'],['ghost']],\n",
    "                'ED':[['EE'],['ghost']],\n",
    "                'EE':[['EF'],['ghost']],\n",
    "                'EF':[['whiteBall'],['ghost']]}"
   ]
  },
  {
   "cell_type": "markdown",
   "metadata": {},
   "source": [
    "ــــــــــــــــــــــــــــــــــــــــــــــــــــــــــــــــــــــــــــــــــــــــــــــــــــــــــــــــــــــــــــــــــــــــــــــــــــــــــــــــــــــــــــــــــــــــــــــــــــــــــــــــــــــــــــــــــــــــــــــــــــــــــــــــــــــــــــــــــــــــــــــــــــــــــــــــــــــــــــــــــــــــــــــــــــــــــــــــــــــــــــــــــــــــــــــــــــــــــــــــــــــــــــــــــــــــــــــــــــــــــــــــــــــــــــــــــــــــــــــــــ"
   ]
  },
  {
   "cell_type": "markdown",
   "metadata": {},
   "source": [
    "\n",
    "<b>\n",
    "    \n",
    "### Huristic function :</b>  The heuristic function is a way to inform the search about the direction to a goal. It provides an informed way to guess which neighbor of a node will lead to a goal.\n",
    "   <h2 dir=\"rtl\"> \n",
    "<b>  الدالة الارشادية : </b>للتعليم عن البحث عن الاتجاة نحو الهدف، ويوفر معلومات للتخمين اي جانب للعقدة سيؤدي الى الهدف \n",
    "</div>\n",
    " \n"
   ]
  },
  {
   "cell_type": "code",
   "execution_count": 8,
   "metadata": {},
   "outputs": [],
   "source": [
    "# heuristic Algorithm function to Calculeting child heuristic for the current node\n",
    "#الدالة الارشادية لحساب االعقد التابعة للعقد الحالية   \n",
    "def heuristicAlgorithm(currentNode):\n",
    "      \n",
    "        for item in pacmanMap[currentNode]:\n",
    "        # to selsct the child node to the current node\n",
    "        # لتحديد العقدة التابعة للعقدة الحالية \n",
    "            if item[0] == 'whiteBall':\n",
    "                return 0\n",
    "            # if the child node is a whiteBall return 0\n",
    "            #اذا كان التابع هو الكورة البيضاء يتم ارجاع 0\n",
    "            elif item[0] == 'ghost':\n",
    "                continue \n",
    "                 # if the child node is a ghost it will be continue\n",
    "                 # اذا كان التابع هو الشبح ستستمر بالبحث\n",
    "            else:  \n",
    "                heuristic.update({item[0]: heuristicAlgorithm(item[0]) + 1  }) \n",
    "                # Update heuristic to the child node by searchin recurcivly\n",
    "                # تحديث القيمة الارشادية للعقدة التابعة عن طريق البحث بشكل تكراري \n",
    "                return heuristic[item[0]]\n",
    "\n",
    "            \n",
    "heuristic = {'whiteBall':0, 'BE':13}  \n",
    "# Dictionary for saveing heuristic for each node\n",
    "# قائمة لحفظ القيمة الارشادية لكل العقد\n",
    "costGn = {'pacMan': 0}     \n",
    "# cllecting the movement cost to move from the starting point to a given square on the grid for each node that pacman moves\n",
    "# تكلفة الطريق الحالي هي لحساب الطريق عند التحرك من نقطة البدايه لكل حركه يتحرك باك مان بها  \n",
    "closedList = []     \n",
    "#  we put the best nodes that we choose with less value function to reach the goal.\n",
    "# في القائمة المغلقة نضع فيها افضل عقده التي تم اختيارها والتي هي اقل حساب للدالة للوصول الى الهدف\n",
    "Fringe = [['pacMan', 11]] \n",
    "# is a collection of all generated nodes. This means that those are nodes that were neighbors of expanded nodes.\n",
    "#  نضع في قائمة الطابور مجموعة من العقد قمنا بزيارتها \n",
    "parentList = {}\n",
    "# we collecting parent for each node we visited \n",
    "# قائمة الاب تخزن الاب لكل عقدة قمنا بزيارتها"
   ]
  },
  {
   "cell_type": "code",
   "execution_count": 9,
   "metadata": {
    "scrolled": true
   },
   "outputs": [
    {
     "name": "stdout",
     "output_type": "stream",
     "text": [
      "visited nodes: [['pacMan', 11], ['AB', 10], ['AC', 10], ['AD', 10], ['AE', 10], ['AF', 10], ['AG', 10], ['BG', 10], ['CG', 10], ['DG', 10], ['whiteBall', 10]]\n",
      "optimal nodes sequence: ['pacMan', 'AB', 'AC', 'AD', 'AE', 'AF', 'AG', 'BG', 'CG', 'DG', 'whiteBall']\n"
     ]
    }
   ],
   "source": [
    "def AStarSearch():\n",
    "    global pacmanMap, heuristic, closedList ,Fringe ,parentList , costGn \n",
    "    # we modifying ,closedList,Fringe,parentList,tree and heuristic from outside of AStarSearch() scope\n",
    "    # نقوم بمناداة المتغيرات التي قمنا بإنشائها عن طريق الكلمة المفتاحية عام \n",
    "    while True:\n",
    "        # A* search by definition is a loop ,looping and looping to find the optimal goal\n",
    "        # اي ستار بشكل عام هي حلقات لانهائيه للوصول الى افضل طريق للهدف\n",
    "        fns = [i[1] for i in Fringe] \n",
    "        # put all f(n) from fring to fns array\n",
    "        # انشئنا متغير لل دوال لتخزين جميع الدوال الموجوده في قائمة الطابور\n",
    "        minFnIndex = fns.index(min(fns)) \n",
    "        # and pick up the minimum from f(n)s\n",
    "        # انشئنا متغير لاختيار اصغر دالة من الدوال \n",
    "        currentNode = Fringe[minFnIndex][0]\n",
    "        # select the node that has the minimum f(n)\n",
    "        # انشئنا متغير العقده الحاليه لتحديد اصغر داله عقدة تم اختيارها\n",
    "        closedList.append(Fringe[minFnIndex])\n",
    "        # we put it in the closed list \n",
    "        # عند اختيارنا له تلقائيا نسنده الى القائمة المغلقة\n",
    "        del Fringe[minFnIndex]\n",
    "        # delet it from fringe , because we expand it to closed list\n",
    "        # يتم مسحه من قائمة الطابور\n",
    "        if closedList[-1][0] == 'whiteBall': \n",
    "            break\n",
    "            # if we reach the goal then we stop looping (break)  from while\n",
    "            # اذا وصلنا الى الهدف في القائمة المغلقة نتوقف ونخرج من حلقة البحث\n",
    "        for item in pacmanMap[currentNode]:\n",
    "            # we expand the childern from the parent node(currentNode) we choose it above\n",
    "            # نوسع البحث عند اختيارنا لاقل عقدة (الحاليه) ونبحث في العقدة التابعة للعقدة الحالية\n",
    "            if item[0] == 'ghost':\n",
    "                continue\n",
    "            # if the child node is a ghost it will be continue\n",
    "            # اذا كان التابع هو الشبح ستستمر بالبحث\n",
    "            elif item[0] in [closed_item[0] for closed_item in closedList]:\n",
    "                continue\n",
    "            # if the child is already in the closed list then go to for(continue)keep expand other child\n",
    "            # اذا العقدة التابعة موجوده في القائمة المغلقة نعود الى حلقة الفور       \n",
    "            parentList.update({item[0]:currentNode})\n",
    "            # select its parent(currentNode) (we need it later for finding best path the a* choose it)\n",
    "            # نحدد الاب للعقدة الحالية (نحتاجها لاحقا في ايجاد الطريق الصحيح المختار من قبل اي ستار\n",
    "            heuristicAlgorithm(parentList[item[0]])\n",
    "            # calling heuristic Algorithm by sending child node parent\n",
    "            # ارسال اب العقدة التابعة للدالة الارشادية لحساب القيمة الارشادية\n",
    "            costGn.update({item[0]: costGn[currentNode] + 1})  \n",
    "            # updating the child cost path g(n) by adding parent cost(currentNode) and its g(n)\n",
    "            # نحدث تكلفة الطريق للعقدة التابع عن طريق جمع تكلفة طريق الاب وتكلفة طريق العقدة الحالية \n",
    "            fn_currentNode = costGn[item[0]] + heuristic[item[0]] # f(n)=h(n)+g(n)\n",
    "            #calculating f(n) for the child node by adding path cost for parent node(currentNode) , cost of child nod  and child node heuristic   \n",
    "            # نحسب الدالة للعقدة التابعة عن طريق جمع تكلفة طريق الاب وتكلفة طريق العقدة التابع و الرقم الارشادي العقدة للتابع\n",
    "            temp = [item[0], fn_currentNode] \n",
    "            # arrange the node name and it's f(n)\n",
    "            # نرتب بتحديد اسم العقدة مع حسابنا للدال\n",
    "            Fringe.append(temp) \n",
    "            # we add it to the fringe \n",
    "            # نضيفها في قائمة الطابور\n",
    "            \n",
    "            \n",
    "    x = True \n",
    "    # initialize boolean variable x to true (we need it for if condition)\n",
    "    # نعرف قيمة منطقيه اكس الى صح (نحتاجها لاحقا لشرط اذ)\n",
    "    optimal_sequence = ['whiteBall']\n",
    "    # array for arranging the best path the a* choose it and add goal to it\n",
    "    # ننشئ مصفوفه لترتيب افضل طريق اي ستار وجدته ونضيف الهدف لها\n",
    "    for i in range(len(closedList)-2, -1, -1):\n",
    "        # from the last closed list,we start from the node before goal, to add the node before goal and select parent for each node above the nodes and so on until we reach initial state\n",
    "        # نبدأ من نهاية القائمة المغلقة ، ونبدأ من قبل الهدف لاضافة العقدة الحالية ونحدد الاب لها لكل عقدة للاعلى الى ان نصل الى الحالة الاولية\n",
    "        check_node = closedList[i][0]\n",
    "        # selecting the node name \n",
    "        # نحدد اسم النود\n",
    "        if x : \n",
    "            # this condition for the first node to put it in the optimal_sequence array\n",
    "            # هذا الشرط لاول لاضافة العقدة الاولى فقط، لنضع افضل سلسة طريق\n",
    "            x = False  \n",
    "            # we just have to append first node before goal، then we change of x value to false\n",
    "            # نحن بحاجه فقط الى اول عقدة قبل الهدف فبذلك نبدل قيمة اكس لخطأ \n",
    "            optimal_sequence.append(check_node)\n",
    "            # append it in the optimal_sequence array\n",
    "            # نضيفها في افضل سلسة للطريق\n",
    "        parent = parentList[check_node]\n",
    "        # selecting its parent from the parentList\n",
    "        # نحدد الاب عن طريق قائمة الاب\n",
    "        optimal_sequence.append(parent)\n",
    "        # add it to optimal_sequence\n",
    "        # نضيفه الى افضل سلسلة طريق\n",
    "        if parent == 'pacMan': \n",
    "            break\n",
    "            # then we have now the optimal_sequence we don't need to keep \n",
    "            # وصلنا الى افضل سلسة طريق لا نحتاج الى الاكمال\n",
    "    optimal_sequence.reverse()\n",
    "    # reversing optimal_sequence because we add it from the goal (in reverse way)\n",
    "    # نعكس افضل سلسلة طريق لانها تمت عن طريق اضافتها بالعكس\n",
    "    \n",
    "   \n",
    "    return closedList, optimal_sequence \n",
    "    # return closedList and optimal_sequence\n",
    "    # ارجاع القائمة المغلقة وافضل سلسلة طريق \n",
    "\n",
    "      \n",
    "if __name__ == '__main__':\n",
    "    visited_nodes, optimal_nodes = AStarSearch()\n",
    "    print('visited nodes: ' + str(visited_nodes))\n",
    "    print('optimal nodes sequence: ' + str(optimal_nodes))\n"
   ]
  },
  {
   "cell_type": "markdown",
   "metadata": {},
   "source": [
    "ــــــــــــــــــــــــــــــــــــــــــــــــــــــــــــــــــــــــــــــــــــــــــــــــــــــــــــــــــــــــــــــــــــــــــــــــــــــــــــــــــــــــــــــــــــــــــــــــــــــــــــــــــــــــــــــــــــــــــــــــــــــــــــــــــــــــــــــــــــــــــــــــــــــــــــــــــــــــــــــــــــــــــــــــــــــــــــــــــــــــــــــــــــــــــــــــــــــــــــــــــــــــــــــــــــــــــــــــــــــــــــــــــــــــــــــــــــــــــــــــــ"
   ]
  },
  {
   "cell_type": "markdown",
   "metadata": {},
   "source": [
    "<img src=\"eat.png\" >"
   ]
  },
  {
   "cell_type": "markdown",
   "metadata": {},
   "source": [
    "\n",
    "<b>\n",
    "    \n",
    "## For testing the code :\n",
    "   <h2 dir=\"rtl\"> \n",
    "    لإختبار البرنامج :"
   ]
  },
  {
   "cell_type": "markdown",
   "metadata": {},
   "source": [
    "1. **Update the fringe for initial pacman place (e.g. Fringe = [['CC', 10]] ).**\n",
    "2. **Update costGn (e.g. costGn = {'CC': 0} ).**\n",
    "3. **Update the line 85 for the initial node you choose (e.g. parent == 'CC') .**\n",
    "\n",
    "<h2 dir=\"rtl\"> \n",
    "    ١.تحديث قيمةالطابور للمكان الأولي لباك مان . \n",
    "<h2 dir=\"rtl\">   \n",
    "    ٢ . تحديث التكلفة (costGn = {'CC': 0}  )\n",
    "<h2 dir=\"rtl\">          \n",
    "٣. حدّث السطر 85 للعقدة الأولية التي تختارها (parent == 'CC'). "
   ]
  },
  {
   "cell_type": "markdown",
   "metadata": {},
   "source": [
    "\n",
    "    \n",
    "## The map in the suggestation Example above will be :\n",
    "<h2 dir=\"rtl\"> \n",
    "ستكون الخريطة في الاقتراح المقترح أعلاه:"
   ]
  },
  {
   "cell_type": "markdown",
   "metadata": {},
   "source": [
    "<img src=\"update.png\" >"
   ]
  },
  {
   "cell_type": "markdown",
   "metadata": {},
   "source": [
    "<img src=\"Result.png\" >"
   ]
  },
  {
   "cell_type": "markdown",
   "metadata": {},
   "source": [
    " ــــــــــــــــــــــــــــــــــــــــــــــــــــــــــــــــــــــــــــــــــــــــــــــــــــــــــــــــــــــــــــــــــــــــــــــــــــــــــــــــــــــــــــــــــــــــــــــــــــــــــــــــــــــــــــــــــــــــــــــــــــــــــــــــــــــــــــــــــــــــــــــــــــــــــــــــــــــــــــــــــــــــــــــــــــــــــــــــــــــــــــــــــــــــــــــــــــــــــــــــــــــــــــــــــــــــــــــــــــــــــــــــــــــــــــــــــــــــــــــــــ"
   ]
  },
  {
   "cell_type": "markdown",
   "metadata": {},
   "source": [
    "ــــــــــــــــــــــــــــــــــــــــــــــــــــــــــــــــــــــــــــــــــــــــــــــــــــــــــــــــــــــــــــــــــــــــــــــــــــــــــــــــــــــــــــــــــــــــــــــــــــــــــــــــــــــــــــــــــــــــــــــــــــــــــــــــــــــــــــــــــــــــــــــــــــــــــــــــــــــــــــــــــــــــــــــــــــــــــــــــــــــــــــــــــــــــــــــــــــــــــــــــــــــــــــــــــــــــــــــــــــــــــــــــــــــــــــــــــــــــــــــــــ"
   ]
  },
  {
   "cell_type": "markdown",
   "metadata": {},
   "source": [
    "\n",
    "\n",
    "# - Simulated Annealing :"
   ]
  },
  {
   "cell_type": "markdown",
   "metadata": {},
   "source": [
    "Simulated Annealing (SA) is a probabilistic technique for approximating the global optimum of a given function. Specifically, it is a metaheuristic to approximate global optimization in a large search space for an optimization problem.\n",
    "SA is a proposed alternative to generic greedy search, hill climbing.\n",
    "algorithms. A hill climbing algorithm is really good at finding local optimal solutions, but does not perform well with global solutions ."
   ]
  },
  {
   "cell_type": "markdown",
   "metadata": {},
   "source": [
    "<h2 dir=\"rtl\"> \n",
    "-خوارزمية محاكاة التلدين :"
   ]
  },
  {
   "cell_type": "markdown",
   "metadata": {},
   "source": [
    "<h2 dir=\"rtl\">\n",
    "محاكاة التلدين (SA)\n",
    "هو تقنية احتمالية لتقريب المثالية العالمية لوظيفة معينة. على وجه التحديد ، من الأمور المجردة لتقريب التحسين العالمي في مساحة بحث كبيرة لمشكلة التحسين.\n",
    "SA هو بديل مقترح للبحث الجشع العام ، وتسلق التلال.\n",
    "الخوارزميات. إن خوارزمية تسلق التل جيدة في إيجاد الحلول المثلى المحلية ، ولكنها لا تعمل بشكل جيد مع الحلول العالمية."
   ]
  },
  {
   "cell_type": "markdown",
   "metadata": {},
   "source": [
    "ــــــــــــــــــــــــــــــــــــــــــــــــــــــــــــــــــــــــــــــــــــــــــــــــــــــــــــــــــــــــــــــــــــــــــــــــــــــــــــــــــــــــــــــــــــــــــــــــــــــــــــــــــــــــــــــــــــــــــــــــــــــــــــــــــــــــــــــــــــــــــــــــــــــــــــــــــــــــــــــــــــــــــــــــــــــــــــــــــــــــــــــــــــــــــــــــــــــــــــــــــــــــــــــــــــــــــــــــــــــــــــــــــــــــــــــــــــــــــــــــــ"
   ]
  },
  {
   "cell_type": "markdown",
   "metadata": {},
   "source": [
    "    \n",
    "## Complete vs incremental problem configurations :"
   ]
  },
  {
   "cell_type": "markdown",
   "metadata": {},
   "source": [
    "incremental heuristic search algorithms combine both incremental and heuristic search to speed up searches of sequences of similar search problems, which is important in domains that are only incompletely known or change dynamically, Incremental search algorithms reuse information from previous searches to speed up the current search and solve search problems potentially much faster than solving them repeatedly from scratch."
   ]
  },
  {
   "cell_type": "markdown",
   "metadata": {},
   "source": [
    "AI-complete\n",
    "In the field of artificial intelligence, the most difficult problems are informally known as AI-complete or AI-hard, implying that the difficulty of these computational problems is equivalent to that of solving the central artificial intelligence problem—making computers as intelligent as people, or strong AI. To call a problem AI-complete reflects an attitude that it would not be solved by a simple specific algorithm. AI-complete problems are hypothesised to include computer vision, natural language understanding, and dealing with unexpected circumstances while solving any real world problem. With current technology, AI-complete problems cannot be solved by computer alone, but also require human computation, Simulated Annealing is Complete problem configurations ."
   ]
  },
  {
   "cell_type": "markdown",
   "metadata": {},
   "source": [
    "<h2 dir=\"rtl\">\n",
    "<b>خوارزمية البحث التزايدية والمكتملة :"
   ]
  },
  {
   "cell_type": "markdown",
   "metadata": {},
   "source": [
    "<h2 dir=\"rtl\">\n",
    "تجمع خوارزميات البحث الإرشادية التزايدية بين البحث التزايدي والإرشادي لتسريع عمليات البحث عن تسلسل مشاكل البحث\n",
    "المتشابهة ، وهو أمر مهم في المجالات التي تكون غير معروفة تمامًا أو تتغير ديناميكيًا فقط ، تقوم خوارزميات البحث التزايدية بإعادة استخدام المعلومات من عمليات البحث السابقة لتسريع البحث الحالي و حل مشاكل البحث التي قد تكون أسرع بكثير من حلها بشكل متكرر من البداية"
   ]
  },
  {
   "cell_type": "markdown",
   "metadata": {},
   "source": [
    "<h2 dir=\"rtl\">\n",
    "المكتملة AI\n",
    "في مجال الذكاء الاصطناعي ، تُعرف أصعب المشاكل بشكل غير رسمي بأنها كاملة بالذكاء الاصطناعي أو بالذكاء الاصطناعي ، مما يعني أن صعوبة هذه المشاكل الحسابية تعادل صعوبة حل مشكلة الذكاء الاصطناعي المركزية - جعل أجهزة الكمبيوتر ذكية مثل البشر ، أو الذكاء الاصطناعي القوي. إن تسمية مشكلة اكتمال الذكاء الاصطناعي تعكس موقفًا لن يتم حلها عن طريق خوارزمية محددة بسيطة. من المفترض أن تتضمن مشكلات الذكاء الاصطناعي الكامل رؤية الكمبيوتر وفهم اللغة الطبيعية والتعامل مع الظروف غير المتوقعة أثناء حل أي مشكلة في العالم الحقيقي. باستخدام التكنولوجيا الحالية ، لا يمكن حل مشكلات اكتمال الذكاء الاصطناعي عن طريق الكمبيوتر وحده ، ولكنها تتطلب أيضًا حسابًا بشريًا, محاكاة التلدين هو تكوينات مكتملة للمشكلة."
   ]
  },
  {
   "cell_type": "markdown",
   "metadata": {},
   "source": [
    "ــــــــــــــــــــــــــــــــــــــــــــــــــــــــــــــــــــــــــــــــــــــــــــــــــــــــــــــــــــــــــــــــــــــــــــــــــــــــــــــــــــــــــــــــــــــــــــــــــــــــــــــــــــــــــــــــــــــــــــــــــــــــــــــــــــــــــــــــــــــــــــــــــــــــــــــــــــــــــــــــــــــــــــــــــــــــــــــــــــــــــــــــــــــــــــــــــــــــــــــــــــــــــــــــــــــــــــــــــــــــــــــــــــــــــــــــــــــــــــــــــ"
   ]
  },
  {
   "cell_type": "code",
   "execution_count": 11,
   "metadata": {},
   "outputs": [],
   "source": [
    "pacmanMap= { 'pacMan':[['AB'],['BA']],\n",
    "                'AB':[['ghost'],['AC']],\n",
    "                'AC':[['ghost'],['AD']],\n",
    "                'AD':[['ghost'],['AE']],\n",
    "                'AE':[['AF'],['BE']],\n",
    "                'AF':[['ghost'],['AG']],\n",
    "                'AG':[['BG']],\n",
    "                'BA':[['CA'],['ghost']],\n",
    "                'BE':[['ghost'],['ghost'],['CE']],\n",
    "                'BG':[['CG'],['ghost']],\n",
    "                'CA':[['ghost'],['CB']],\n",
    "                'CB':[['CC'],['ghost'],['ghost']],\n",
    "                'CC':[['CD'],['ghost'],['ghost']],\n",
    "                'CD':[['DD'],['ghost']],\n",
    "                'CE':[['CD'],['ghost'],['ghost']],\n",
    "                'CG':[['DG'],['ghost']],\n",
    "                'DD':[['ED'],['ghost'],['ghost']],\n",
    "                'DG':[['whiteBall'],['ghost']],\n",
    "                'EA':[['EB'],['ghost']],\n",
    "                'EB':[['EC'],['ghost']],\n",
    "                'EC':[['ED'],['ghost']],\n",
    "                'ED':[['EE']],\n",
    "                'EE':[['EF'],['ghost']],\n",
    "                'EF':[['whiteBall'],['ghost']]}"
   ]
  },
  {
   "cell_type": "markdown",
   "metadata": {},
   "source": [
    "\n",
    "\n",
    "### - Pacman State space :\n",
    " \n",
    " <h2 dir=\"rtl\">  \n",
    "    . باك مان:\n"
   ]
  },
  {
   "cell_type": "markdown",
   "metadata": {},
   "source": [
    "<img src=\"spaceS.png\" >"
   ]
  },
  {
   "cell_type": "code",
   "execution_count": 14,
   "metadata": {},
   "outputs": [
    {
     "name": "stdout",
     "output_type": "stream",
     "text": [
      "AB\n",
      "Save random node\n",
      "failed! \n",
      "visited nodes: [['AB', 10], ['AC', 10], ['AD', 10], ['AE', 10], ['AF', 10]]\n",
      "optimal nodes sequence: ['pacMan', 'AB', 'AC', 'AD', 'AE']\n"
     ]
    }
   ],
   "source": [
    "\n",
    "def heuristicAlgorithm(currentNode):\n",
    "      \n",
    "        for item in pacmanMap[currentNode]:\n",
    "                \n",
    "            if item[0] == 'whiteBall':\n",
    "                return 0\n",
    "            \n",
    "            elif item[0] == 'ghost':\n",
    "                continue \n",
    "            else:  \n",
    "                heuristic.update({item[0]: heuristicAlgorithm(item[0]) + 1  })  \n",
    "                return heuristic[item[0]]\n",
    "               \n",
    "            \n",
    "heuristic = {'whiteBall':0, 'BE':13,'BA': 9,'pacMan':10}           \n",
    "costGn = {'pacMan': 0}     \n",
    "closedList = []     \n",
    "Fringe = [['pacMan', 11]] \n",
    "parentList = {'AB':'pacMan','BA':'pacMan'}\n",
    "\n",
    "\n",
    "import random \n",
    "# random library \n",
    "#مكتبة عشوائية   \n",
    "def SAAlgorithm():\n",
    "    \n",
    "    global pacmanMap, heuristic, closedList ,Fringe ,parentList , costGn\n",
    "\n",
    "    randomNode = random.randint(1,2)\n",
    "    # Choose path number randomly \n",
    "    # اختيار رقم الطريق عشوائيا\n",
    "    x = 0\n",
    "    for item in pacmanMap['pacMan']:\n",
    "        #Putting choose node value for the current node\n",
    "        #اسناد قيمة العقدة المختارة للعقدة الحالية\n",
    "            if randomNode == 1:\n",
    "                currentNode = item[0]\n",
    "                break\n",
    "            elif x==0:\n",
    "                x=1\n",
    "                continue\n",
    "            else: currentNode = item[0]\n",
    "                \n",
    "    print(currentNode)\n",
    "    heuristicAlgorithm('pacMan')\n",
    "    \n",
    "    # Comparing between initial node and choosen node\n",
    "    # المقارنة بين العقدة الاولية والعقدة المختارة\n",
    "    if heuristic[currentNode] < heuristic['pacMan']:\n",
    "        print('Save random node')\n",
    "    else:\n",
    "        print('Not save !')\n",
    "    \n",
    "    \n",
    "    costGn.update({currentNode: costGn['pacMan'] + 1}) \n",
    "    fn_currentNode = costGn[currentNode] + heuristic[currentNode] \n",
    "    temp = [currentNode, fn_currentNode] \n",
    "    Fringe.append(temp)\n",
    "    \n",
    "    #select Temperature \n",
    "    # تحديد درجة الحرارة\n",
    "    for T in range(1,6):\n",
    "        fns = [i[1] for i in Fringe] \n",
    "        minFnIndex = fns.index(min(fns)) \n",
    "        currentNode = Fringe[minFnIndex][0]\n",
    "        \n",
    "        closedList.append(Fringe[minFnIndex])\n",
    "        del Fringe[minFnIndex]\n",
    "        \n",
    "        if closedList[-1][0] == 'whiteBall': \n",
    "            break\n",
    "        \n",
    "        for item in pacmanMap[currentNode]:\n",
    "            if item[0] == 'ghost':\n",
    "                continue\n",
    "            elif item[0] in [closed_item[0] for closed_item in closedList]:\n",
    "                continue\n",
    "                  \n",
    "            parentList.update({item[0]:currentNode})\n",
    "            heuristicAlgorithm(parentList[item[0]])\n",
    "            costGn.update({item[0]: costGn[currentNode] + 1})  \n",
    "            fn_currentNode = costGn[item[0]] + heuristic[item[0]] \n",
    "            temp = [item[0], fn_currentNode] \n",
    "            Fringe.append(temp) \n",
    "   \n",
    "    # Check the last node from closed list \n",
    "    #يتحقق من اخر عقدة من القائمة المغلقة \n",
    "    Goal=False\n",
    "    for i in range(len(closedList)-1, -1, -1):  \n",
    "        check_node = closedList[i][0] \n",
    "        if check_node == 'whiteBall':\n",
    "            print('success! ')\n",
    "            Goal=True\n",
    "            break\n",
    "        else :\n",
    "            print('failed! ')\n",
    "            break\n",
    "            \n",
    "            \n",
    "    x = True \n",
    "    optimal_sequence = []\n",
    "    if Goal :\n",
    "        optimal_sequence.append('whiteBall')\n",
    "        \n",
    "    for i in range(len(closedList)-2, -1, -1):\n",
    "        check_node = closedList[i][0] \n",
    "        if x : \n",
    "            x = False  \n",
    "            optimal_sequence.append(check_node)\n",
    "        parent = parentList[check_node]\n",
    "        optimal_sequence.append(parent)\n",
    "        if parent == 'pacMan': \n",
    "            break\n",
    "            \n",
    "    optimal_sequence.reverse()\n",
    "     \n",
    "   \n",
    "    return closedList, optimal_sequence \n",
    " \n",
    "if __name__ == '__main__':\n",
    "    visited_nodes, optimal_nodes = SAAlgorithm()\n",
    "    print('visited nodes: ' + str(visited_nodes))\n",
    "    print('optimal nodes sequence: ' + str(optimal_nodes))"
   ]
  },
  {
   "cell_type": "markdown",
   "metadata": {},
   "source": [
    "ــــــــــــــــــــــــــــــــــــــــــــــــــــــــــــــــــــــــــــــــــــــــــــــــــــــــــــــــــــــــــــــــــــــــــــــــــــــــــــــــــــــــــــــــــــــــــــــــــــــــــــــــــــــــــــــــــــــــــــــــــــــــــــــــــــــــــــــــــــــــــــــــــــــــــــــــــــــــــــــــــــــــــــــــــــــــــــــــــــــــــــــــــــــــــــــــــــــــــــــــــــــــــــــــــــــــــــــــــــــــــــــــــــــــــــــــــــــــــــــــــ"
   ]
  },
  {
   "cell_type": "markdown",
   "metadata": {},
   "source": [
    "<b>\n",
    "    \n",
    "## For testing the code :\n",
    "   <h2 dir=\"rtl\"> \n",
    "    لإختبار البرنامج :"
   ]
  },
  {
   "cell_type": "markdown",
   "metadata": {},
   "source": [
    "\n",
    "* You can test the code by changing the Temperature(e.g. T=11) and check if it is reach a goal or not in line 63.\n",
    "\n",
    "<h2 dir=\"rtl\"> \n",
    "يمكنك اختبار البرنامج بتغير الحرارة (e.g. T=11) والتحقق من انه يتم الوصول الى الهدف او لا في السطر 63."
   ]
  },
  {
   "cell_type": "markdown",
   "metadata": {},
   "source": [
    "\n",
    "    \n",
    "## The Result for the suggestation Example above will be :\n",
    "<h2 dir=\"rtl\"> \n",
    "ستكون النتيجة في الاقتراح المقترح أعلاه:"
   ]
  },
  {
   "cell_type": "markdown",
   "metadata": {},
   "source": [
    "<img src=\"SR.png\">"
   ]
  },
  {
   "cell_type": "markdown",
   "metadata": {},
   "source": [
    "ــــــــــــــــــــــــــــــــــــــــــــــــــــــــــــــــــــــــــــــــــــــــــــــــــــــــــــــــــــــــــــــــــــــــــــــــــــــــــــــــــــــــــــــــــــــــــــــــــــــــــــــــــــــــــــــــــــــــــــــــــــــــــــــــــــــــــــــــــــــــــــــــــــــــــــــــــــــــــــــــــــــــــــــــــــــــــــــــــــــــــــــــــــــــــــــــــــــــــــــــــــــــــــــــــــــــــــــــــــــــــــــــــــــــــــــــــــــــــــــــــ"
   ]
  },
  {
   "cell_type": "markdown",
   "metadata": {},
   "source": [
    "\n",
    "    \n",
    "   ## Another problem solving by using simulated annealing:\n",
    "   \n",
    "   <h2 dir=\"rtl\"> \n",
    "    مشكلة اخرى حلت عن طريق محاكاة التلدين :"
   ]
  },
  {
   "cell_type": "markdown",
   "metadata": {},
   "source": [
    "ــــــــــــــــــــــــــــــــــــــــــــــــــــــــــــــــــــــــــــــــــــــــــــــــــــــــــــــــــــــــــــــــــــــــــــــــــــــــــــــــــــــــــــــــــــــــــــــــــــــــــــــــــــــــــــــــــــــــــــــــــــــــــــــــــــــــــــــــــــــــــــــــــــــــــــــــــــــــــــــــــــــــــــــــــــــــــــــــــــــــــــــــــــــــــــــــــــــــــــــــــــــــــــــــــــــــــــــــــــــــــــــــــــــــــــــــــــــــــــــــــ"
   ]
  },
  {
   "cell_type": "markdown",
   "metadata": {},
   "source": [
    "\n",
    "<b> \n",
    "   \n",
    "   ## - Problem Description :</b>"
   ]
  },
  {
   "cell_type": "markdown",
   "metadata": {},
   "source": [
    "* Finding the global minimum ( or maximum ) by Simulated Annealing Algorithm which has a propapility ( using a Boltezman distribution ) of choosing a worse proposal than strictly only Accepting improvements, this helps the algorithm find a global Optimum by jumping out of local optimum ."
   ]
  },
  {
   "cell_type": "markdown",
   "metadata": {},
   "source": [
    "\n",
    "<b> <h2 dir=\"rtl\">\n",
    "     - وصف المشكلة :"
   ]
  },
  {
   "cell_type": "markdown",
   "metadata": {},
   "source": [
    "<b> <h2 dir=\"rtl\">\n",
    " العثور على الحد الأدنى العالمي (أو الحد الأقصى) من خلال خوارزمية التلدين المقلدة التي لديها قابلية (باستخدام توزيع Boltezman) .لاختيار اقتراح أسوأ من قبول التحسينات فقط بدقة ، وهذا يساعد الخوارزمية في العثور على الحل الأمثل "
   ]
  },
  {
   "cell_type": "markdown",
   "metadata": {},
   "source": [
    "ــــــــــــــــــــــــــــــــــــــــــــــــــــــــــــــــــــــــــــــــــــــــــــــــــــــــــــــــــــــــــــــــــــــــــــــــــــــــــــــــــــــــــــــــــــــــــــــــــــــــــــــــــــــــــــــــــــــــــــــــــــــــــــــــــــــــــــــــــــــــــــــــــــــــــــــــــــــــــــــــــــــــــــــــــــــــــــــــــــــــــــــــــــــــــــــــــــــــــــــــــــــــــــــــــــــــــــــــــــــــــــــــــــــــــــــــــــــــــــــــــ"
   ]
  },
  {
   "cell_type": "code",
   "execution_count": 5,
   "metadata": {},
   "outputs": [],
   "source": [
    "import numpy as np # math library \n",
    "import matplotlib.pyplot as plt # live plotting"
   ]
  },
  {
   "cell_type": "code",
   "execution_count": 6,
   "metadata": {},
   "outputs": [],
   "source": [
    "# generator function for y\n",
    "#   (الدالة المولدة ل(ص\n",
    "def f(x): \n",
    "    if x < -1 or x > 1:\n",
    "        y = 0\n",
    "    else:\n",
    "        y = (np.cos(20*x) + np.sin(50*x))\n",
    "    return y\n",
    "funY = np.vectorize(f)\n",
    "# Define a vectorized function which takes a nested sequence of objects or numpy arrays as inputs and returns a single numpy array or a tuple of numpy arrays\n",
    "#حدد وظيفة متجهية تأخذ تسلسل متداخل من الكائنات أو المصفوفات المرقمة كمدخلات وترجع مصفوفة مفردة أو مجموعة من المصفوفات المربوطة"
   ]
  },
  {
   "cell_type": "code",
   "execution_count": 7,
   "metadata": {},
   "outputs": [
    {
     "data": {
      "text/plain": [
       "[<matplotlib.lines.Line2D at 0x7fc90d6e3590>]"
      ]
     },
     "execution_count": 7,
     "metadata": {},
     "output_type": "execute_result"
    },
    {
     "data": {
      "image/png": "[encoded data removed]",
      "text/plain": [
       "<Figure size 432x288 with 1 Axes>"
      ]
     },
     "metadata": {
      "needs_background": "light"
     },
     "output_type": "display_data"
    }
   ],
   "source": [
    "X = np.linspace(-1, 2, num=1000) \n",
    "# Array from -1 to 2 Divided by 1000 \n",
    "#   مصفوفة من -١ الى ٢ مقسمة ١٠٠٠ نقطة\n",
    "plt.plot(X,funY(X))\n",
    "# the plot graph\n",
    "# س،ص)الرسم الباني"
   ]
  },
  {
   "cell_type": "markdown",
   "metadata": {},
   "source": [
    "ــــــــــــــــــــــــــــــــــــــــــــــــــــــــــــــــــــــــــــــــــــــــــــــــــــــــــــــــــــــــــــــــــــــــــــــــــــــــــــــــــــــــــــــــــــــــــــــــــــــــــــــــــــــــــــــــــــــــــــــــــــــــــــــــــــــــــــــــــــــــــــــــــــــــــــــــــــــــــــــــــــــــــــــــــــــــــــــــــــــــــــــــــــــــــــــــــــــــــــــــــــــــــــــــــــــــــــــــــــــــــــــــــــــــــــــــــــــــــــــــــ"
   ]
  },
  {
   "cell_type": "markdown",
   "metadata": {},
   "source": [
    "\n",
    "    \n",
    "## Hill climbing Implementation  : \n",
    "\n",
    "<b> <h2 dir=\"rtl\">\n",
    "    تنفيذ خوارزمية تسلق التل :\n"
   ]
  },
  {
   "cell_type": "code",
   "execution_count": 8,
   "metadata": {},
   "outputs": [],
   "source": [
    "def hillClimbingSearch(funY, start=0, N=100):\n",
    "    x = start \n",
    "    # starting value from the input Parameters \n",
    "    # يحدد س ببداية رقم من المدخلات\n",
    "    history = []\n",
    "    # storing x history for plotting graph\n",
    "    # تخزين قيم س للرسم البياني\n",
    "    for i in range(N):\n",
    "        history.append(x) \n",
    "        # keep track of steps\n",
    "        # يخزن قيم الخطوات لدى س\n",
    "        u = 0.001 \n",
    "        # np.random.rand() some noise\n",
    "        # لاضافة بعض الترددات \n",
    "        xL , xR = x-u , x+u  \n",
    "        # selecting around the neightborhood we are standing at\n",
    "        # يحدد الجوانب المحيطة في مكان س الحالي\n",
    "        yD, yU = funY(xL), funY(xR)\n",
    "        # move to area of the neightborhood (y Vectors)\n",
    "        # )يتحرك الى الجوانب المحيطة ل (ص\n",
    "        if yD < yU:\n",
    "              x = xL\n",
    "        else:\n",
    "            x = xR \n",
    "        # if y down smaller than y up put it's  x in the left ,otherwise put it's x in the right\n",
    "        # اذا ص من الاسفل اصغر من ص الاعلى تكون س الى اليسار ، والعكس تكون س الى اليمين\n",
    "\n",
    "\n",
    "    return x, history"
   ]
  },
  {
   "cell_type": "code",
   "execution_count": 9,
   "metadata": {},
   "outputs": [],
   "source": [
    "x0, history = hillClimbingSearch(funY, start= -0.02, N=100)"
   ]
  },
  {
   "cell_type": "code",
   "execution_count": 10,
   "metadata": {},
   "outputs": [
    {
     "data": {
      "text/plain": [
       "[<matplotlib.lines.Line2D at 0x7fc90d999ed0>]"
      ]
     },
     "execution_count": 10,
     "metadata": {},
     "output_type": "execute_result"
    },
    {
     "data": {
      "image/png": "[encoded data removed]",
      "text/plain": [
       "<Figure size 432x288 with 1 Axes>"
      ]
     },
     "metadata": {
      "needs_background": "light"
     },
     "output_type": "display_data"
    }
   ],
   "source": [
    "plt.plot(X, funY(X))\n",
    "# the plot graph\n",
    "# (س،ص)الرسم الباني\n",
    "plt.scatter(x0, funY(x0), marker = 'o', s = 100)\n",
    "# for marking o in the position \n",
    "# لرسم علامة o في الموقع   \n",
    "plt.plot(history, funY(history))\n",
    "# the plot graph for HC algorith\n",
    "# الرسم البياني (س،ص ) لخوارزمية HC"
   ]
  },
  {
   "cell_type": "code",
   "execution_count": 11,
   "metadata": {},
   "outputs": [
    {
     "name": "stdout",
     "output_type": "stream",
     "text": [
      "The Local Minimum  Is\n"
     ]
    },
    {
     "data": {
      "text/plain": [
       "-0.22280664424571195"
      ]
     },
     "execution_count": 11,
     "metadata": {},
     "output_type": "execute_result"
    }
   ],
   "source": [
    "print('The Local Minimum  Is')\n",
    "f(history[-1])"
   ]
  },
  {
   "cell_type": "markdown",
   "metadata": {},
   "source": [
    "ــــــــــــــــــــــــــــــــــــــــــــــــــــــــــــــــــــــــــــــــــــــــــــــــــــــــــــــــــــــــــــــــــــــــــــــــــــــــــــــــــــــــــــــــــــــــــــــــــــــــــــــــــــــــــــــــــــــــــــــــــــــــــــــــــــــــــــــــــــــــــــــــــــــــــــــــــــــــــــــــــــــــــــــــــــــــــــــــــــــــــــــــــــــــــــــــــــــــــــــــــــــــــــــــــــــــــــــــــــــــــــــــــــــــــــــــــــــــــــــــــ"
   ]
  },
  {
   "cell_type": "markdown",
   "metadata": {},
   "source": [
    "\n",
    "\n",
    "## - Simulated Annealing  Implementation :\n",
    "\n",
    "<h2 dir=\"rtl\"> \n",
    "    -تنفيذ محاكاة التلدين:"
   ]
  },
  {
   "cell_type": "code",
   "execution_count": 29,
   "metadata": {},
   "outputs": [],
   "source": [
    "def simulatedAnnealing(X , f, T):\n",
    "    # T (temprecher) must be grater than 0 \n",
    "    # لابد للحراره ان تكون اكبر من صفر\n",
    "    scale = np.sqrt(T)\n",
    "    # taking squareroot for T suggested by Rebort & Casella\n",
    "    #  اخذ الجذر التربيعي لدرجة الحرارة مقترحه من قبل ريبورت و كاسيلا\n",
    "    start = np.random.choice(X) \n",
    "    # random started value which is the one of the difference with HC algorithm\n",
    "    # np.random.choice: select one value of the input array\n",
    "    #  بداية متغير عشوائي الا وهو واحد من الفروق مقارنة ب HC\n",
    "    # np.random.choice: تحديد قيمة واحدة من المصفوفة \n",
    "    cur = f(start)\n",
    "    # current variable generated by f(x) to allocate y \n",
    "    # المتغير الحالي مولد من قبل الداله المولدة ل(ص)\n",
    "    history = [start]\n",
    "    # storing start history for plotting graph\n",
    "    # تخزين قيمة البداية للرسم البياني\n",
    "    for i in range(1000):\n",
    "        prop = start + np . random.normal()*scale \n",
    "        # calculating proposal\n",
    "        # معادلة لحساب الاقتراح\n",
    "        if prop > 1 or prop < 0 or np.log(np.random.rand())* T < (f(prop) - cur):\n",
    "            # Probability of accepting proposal (accept or reject depends on the probability)\n",
    "            # احتمالية قبول الاقتراح (مقبول او مرفوض اعتمادا على الاحتمالية)\n",
    "            prop = start\n",
    "            # if the condition true the proposal will be updated to start and start remaines same, otherwise the start will updated to the proposal\n",
    "            #  اذا الشرط صحيح الاقتراح سوف يحدث الى قيمة البداية وبذلك تكون البداية نفسها، والعكس قيمة البداية سوف تكون هي الاقتراح\n",
    "        start = prop\n",
    "        cur = f(start)\n",
    "        # updateing current variable generated by f(x) to allocate y\n",
    "        # تحديث قيمة المتغير الحالي من قبل الدالة المولدة ل (ص)\n",
    "        T = 0.9 * T  \n",
    "        #  update T (reduce the heat by 10% for each iteration)\n",
    "        # (نقلل الحراره بمقدار ١٠٪ لكل تكرار)تحديث للحرارة \n",
    "        history.append(start)\n",
    "        # keep track of steps\n",
    "        # يخزن قيم الخطوات لدى س\n",
    "    return start, history"
   ]
  },
  {
   "cell_type": "code",
   "execution_count": 34,
   "metadata": {
    "scrolled": true
   },
   "outputs": [
    {
     "data": {
      "text/plain": [
       "[<matplotlib.lines.Line2D at 0x112fc2f10>]"
      ]
     },
     "execution_count": 34,
     "metadata": {},
     "output_type": "execute_result"
    },
    {
     "data": {
      "image/png": "[encoded data removed]",
      "text/plain": [
       "<Figure size 432x288 with 1 Axes>"
      ]
     },
     "metadata": {
      "needs_background": "light"
     },
     "output_type": "display_data"
    }
   ],
   "source": [
    "X = np.linspace(-1, 1, num=1000)\n",
    "# Array from -1 to 1 Divided by 1000 \n",
    "#   مصفوفة من -١ الى ١ مقسمة ١٠٠٠ نقطة\n",
    "x1, history = simulatedAnnealing(X, f, T=4)\n",
    "\n",
    "plt.plot(X, funY(X))\n",
    "# the plot graph\n",
    "# (س،ص)الرسم الباني\n",
    "plt.scatter(x1, f(x1), marker = 'o')\n",
    "# for marking o in the position \n",
    "# لرسم علامة o في الموقع\n",
    "plt.plot(history, funY(history))\n",
    "# the plot graph for HC algorithm\n",
    "# الرسم البياني (س،ص ) لخوارزمية HC"
   ]
  },
  {
   "cell_type": "code",
   "execution_count": 35,
   "metadata": {},
   "outputs": [
    {
     "name": "stdout",
     "output_type": "stream",
     "text": [
      "The Global Minimum  Is\n"
     ]
    },
    {
     "data": {
      "text/plain": [
       "-1.999754384119837"
      ]
     },
     "execution_count": 35,
     "metadata": {},
     "output_type": "execute_result"
    }
   ],
   "source": [
    "print('The Global Minimum  Is')\n",
    "f(history[-1])"
   ]
  },
  {
   "cell_type": "markdown",
   "metadata": {},
   "source": [
    "\n",
    "    \n",
    "## For testing the code :\n",
    "   <h2 dir=\"rtl\"> \n",
    "    لإختبار البرنامج :"
   ]
  },
  {
   "cell_type": "markdown",
   "metadata": {},
   "source": [
    "* generator function Update the value of ( **cos** and **sin** )in line **7** , Depending on the value of cos and sin the  hill Climbing may reach the global minimum\n",
    "* You can test simulated Annealing code to find the Global maximum by chenging the line 22 (e.g. np.log(np.random.rand())* T **>** (f(prop) - cur))\n",
    "* * You can test hill Climbing code to find the local maximum by chenging the line 21 (e.g.  if yD **>** yU:)\n",
    "\n",
    "<h2 dir=\"rtl\"> \n",
    "     وظيفة المولد قم بتحديث قيمة ( cos  and  sin ) في السطر  7  ، اعتمادًا على قيمة cos و sin ، قد \n",
    " يصل تسلق التل إلى الحد الأدنى العالمي\n",
    "<h2 dir=\"rtl\"> \n",
    " يمكنك اختبار رمز التلدين المحاكي للعثور على الحد الأقصى العام من خلال تغيير السطر 22 (مثل np.log\n",
    "    (np.random.rand ())  T >  (f (prop) - cur))\n",
    "<h2 dir=\"rtl\"> \n",
    "  يمكنك اختبار رمز تسلق التل للعثور على الحد الأقصى المحلي عن طريق تغيير الخط 21 (على سبيل المثال إذا yD >  yU :)"
   ]
  },
  {
   "cell_type": "markdown",
   "metadata": {},
   "source": [
    "ــــــــــــــــــــــــــــــــــــــــــــــــــــــــــــــــــــــــــــــــــــــــــــــــــــــــــــــــــــــــــــــــــــــــــــــــــــــــــــــــــــــــــــــــــــــــــــــــــــــــــــــــــــــــــــــــــــــــــــــــــــــــــــــــــــــــــــــــــــــــــــــــــــــــــــــــــــــــــــــــــــــــــــــــــــــــــــــــــــــــــــــــــــــــــــــــــــــــــــــــــــــــــــــــــــــــــــــــــــــــــــــــــــــــــــــــــــــــــــــــــ"
   ]
  },
  {
   "cell_type": "markdown",
   "metadata": {},
   "source": [
    "\n",
    "    \n",
    "# Reference:\n",
    "\n",
    "<b> <h2 dir=\"rtl\">\n",
    "    المراجع :"
   ]
  },
  {
   "cell_type": "markdown",
   "metadata": {},
   "source": [
    "* Nian Li ,(2019,Feb,16).CS540 L3 Python: A Star Search. https://www.youtube.com/watch?v=birig65AP2A\n",
    "* W3schools.com , https://www.w3schools.com/python/default.asp .\n",
    "* (Eman,etc) (2018,May,2) JPT : A SIMPLE JAVA-PYTHON TRANSLATOR https://airccse.com/caij/papers/5218caij01.pdf \n",
    "* (Robert,etc) (2009,Oct,18) Introduction to Monte Carlo Methods with R by Robert and Casella .\n",
    "* https://www.ibm.com/support/knowledgecenter/SSHGWL_1.2.3/analyze-data/markd-jupyter.html\n",
    "* Johnnyboycurtis, (2018, Jun, 15). Simulated Annealing with Python. https://www.youtube.com/watch?v=XNMGq5Jjs5w\n"
   ]
  },
  {
   "cell_type": "markdown",
   "metadata": {},
   "source": [
    "\n",
    "    \n",
    "   ### 1.Fay Abdulrahman Aljomah.(438016024)\n",
    "   ### 2.Njood Jasser Aljasser.(438017962)\n",
    "  ###  3.Norah Mohammed Alsubaei(438015094)\n",
    "  \n",
    "<b> <h2 dir=\"rtl\">\n",
    "    ١. فيّ عبد الرحمن الجمعة. (٤٣٨٠١٦٠٢٤)                                                                       \n",
    "    ٢. نجود جاسر الجاسر(٤٣٨٠١٧٩٦٢)   \n",
    "     . نورة محمد السبيعي .(٤٣٨٠١٥٠٩٤)\n",
    "    "
   ]
  },
  {
   "cell_type": "markdown",
   "metadata": {},
   "source": [
    "ــــــــــــــــــــــــــــــــــــــــــــــــــــــــــــــــــــــــــــــــــــــــــــــــــــــــــــــــــــــــــــــــــــــــــــــــــــــــــــــــــــــــــــــــــــــــــــــــــــــــــــــــــــــــــــــــــــــــــــــــــــــــــــــــــــــــــــــــــــــــــــــــــــــــــــــــــــــــــــــــــــــــــــــــــــــــــــــــــــــــــــــــــــــــــــــــــــــــــــــــــــــــــــــــــــــــــــــــــــــــــــــــــــــــــــــــــــــــــــــــــ"
   ]
  },
  {
   "cell_type": "markdown",
   "metadata": {},
   "source": [
    "ــــــــــــــــــــــــــــــــــــــــــــــــــــــــــــــــــــــــــــــــــــــــــــــــــــــــــــــــــــــــــــــــــــــــــــــــــــــــــــــــــــــــــــــــــــــــــــــــــــــــــــــــــــــــــــــــــــــــــــــــــــــــــــــــــــــــــــــــــــــــــــــــــــــــــــــــــــــــــــــــــــــــــــــــــــــــــــــــــــــــــــــــــــــــــــــــــــــــــــــــــــــــــــــــــــــــــــــــــــــــــــــــــــــــــــــــــــــــــــــــــ"
   ]
  }
 ],
 "metadata": {
  "kernelspec": {
   "display_name": "Python 3",
   "language": "python",
   "name": "python3"
  },
  "language_info": {
   "codemirror_mode": {
    "name": "ipython",
    "version": 3
   },
   "file_extension": ".py",
   "mimetype": "text/x-python",
   "name": "python",
   "nbconvert_exporter": "python",
   "pygments_lexer": "ipython3",
   "version": "3.7.4"
  }
 },
 "nbformat": 4,
 "nbformat_minor": 2
}
